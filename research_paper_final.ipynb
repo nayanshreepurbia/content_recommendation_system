{
  "cells": [
    {
      "cell_type": "markdown",
      "metadata": {
        "id": "view-in-github",
        "colab_type": "text"
      },
      "source": [
        "<a href=\"https://colab.research.google.com/github/nayanshreepurbia/content_recommendation_system/blob/main/research_paper_final.ipynb\" target=\"_parent\"><img src=\"https://colab.research.google.com/assets/colab-badge.svg\" alt=\"Open In Colab\"/></a>"
      ]
    },
    {
      "cell_type": "code",
      "execution_count": 8,
      "id": "ffc22725",
      "metadata": {
        "colab": {
          "base_uri": "https://localhost:8080/"
        },
        "id": "ffc22725",
        "outputId": "a4b2db03-ca99-47e0-829f-207f47b36a85"
      },
      "outputs": [
        {
          "output_type": "stream",
          "name": "stdout",
          "text": [
            "Requirement already satisfied: pandas in /usr/local/lib/python3.10/dist-packages (1.5.3)\n",
            "Requirement already satisfied: nltk in /usr/local/lib/python3.10/dist-packages (3.8.1)\n",
            "Requirement already satisfied: textblob in /usr/local/lib/python3.10/dist-packages (0.17.1)\n",
            "Requirement already satisfied: python-dateutil>=2.8.1 in /usr/local/lib/python3.10/dist-packages (from pandas) (2.8.2)\n",
            "Requirement already satisfied: pytz>=2020.1 in /usr/local/lib/python3.10/dist-packages (from pandas) (2023.4)\n",
            "Requirement already satisfied: numpy>=1.21.0 in /usr/local/lib/python3.10/dist-packages (from pandas) (1.25.2)\n",
            "Requirement already satisfied: click in /usr/local/lib/python3.10/dist-packages (from nltk) (8.1.7)\n",
            "Requirement already satisfied: joblib in /usr/local/lib/python3.10/dist-packages (from nltk) (1.3.2)\n",
            "Requirement already satisfied: regex>=2021.8.3 in /usr/local/lib/python3.10/dist-packages (from nltk) (2023.12.25)\n",
            "Requirement already satisfied: tqdm in /usr/local/lib/python3.10/dist-packages (from nltk) (4.66.2)\n",
            "Requirement already satisfied: six>=1.5 in /usr/local/lib/python3.10/dist-packages (from python-dateutil>=2.8.1->pandas) (1.16.0)\n"
          ]
        }
      ],
      "source": [
        "pip install pandas nltk textblob"
      ]
    },
    {
      "cell_type": "code",
      "execution_count": 9,
      "id": "7d67a4dc",
      "metadata": {
        "scrolled": true,
        "colab": {
          "base_uri": "https://localhost:8080/"
        },
        "id": "7d67a4dc",
        "outputId": "0e0cab74-e09f-4e21-fcae-e0e2129252d3"
      },
      "outputs": [
        {
          "output_type": "stream",
          "name": "stdout",
          "text": [
            "Requirement already satisfied: python-docx in /usr/local/lib/python3.10/dist-packages (1.1.0)\n",
            "Requirement already satisfied: lxml>=3.1.0 in /usr/local/lib/python3.10/dist-packages (from python-docx) (4.9.4)\n",
            "Requirement already satisfied: typing-extensions in /usr/local/lib/python3.10/dist-packages (from python-docx) (4.10.0)\n"
          ]
        }
      ],
      "source": [
        "pip install python-docx"
      ]
    },
    {
      "cell_type": "code",
      "execution_count": 10,
      "id": "32278907",
      "metadata": {
        "scrolled": true,
        "colab": {
          "base_uri": "https://localhost:8080/"
        },
        "id": "32278907",
        "outputId": "2c32e18a-a7db-4cf4-87f2-29903b2cb52c"
      },
      "outputs": [
        {
          "output_type": "stream",
          "name": "stderr",
          "text": [
            "[nltk_data] Downloading package stopwords to /root/nltk_data...\n",
            "[nltk_data]   Package stopwords is already up-to-date!\n",
            "[nltk_data] Downloading package punkt to /root/nltk_data...\n",
            "[nltk_data]   Package punkt is already up-to-date!\n"
          ]
        },
        {
          "output_type": "execute_result",
          "data": {
            "text/plain": [
              "True"
            ]
          },
          "metadata": {},
          "execution_count": 10
        }
      ],
      "source": [
        "import pandas as pd\n",
        "from textblob import TextBlob\n",
        "from nltk.tokenize import word_tokenize\n",
        "from nltk.stem import PorterStemmer\n",
        "import nltk\n",
        "\n",
        "# Download NLTK resources (stopwords and punkt)\n",
        "nltk.download('stopwords')\n",
        "nltk.download('punkt')"
      ]
    },
    {
      "cell_type": "code",
      "execution_count": 11,
      "id": "c40fcf1e",
      "metadata": {
        "id": "c40fcf1e"
      },
      "outputs": [],
      "source": [
        "df = pd.read_csv('/content/demo1122.csv')"
      ]
    },
    {
      "cell_type": "code",
      "source": [
        "df.head(10)"
      ],
      "metadata": {
        "colab": {
          "base_uri": "https://localhost:8080/",
          "height": 363
        },
        "id": "YRs_PyxmVMBO",
        "outputId": "b2f89b8e-9d2b-4dc8-86b6-ad77596481ec"
      },
      "id": "YRs_PyxmVMBO",
      "execution_count": 12,
      "outputs": [
        {
          "output_type": "execute_result",
          "data": {
            "text/plain": [
              "   user_id            username  \\\n",
              "0        1     Plant Whisperer   \n",
              "1        2          Wanderlust   \n",
              "2        3         Technophile   \n",
              "3        4     Culinary Artist   \n",
              "4        5            Bookworm   \n",
              "5        6     Animal Advocate   \n",
              "6        7        History Buff   \n",
              "7        8            Musician   \n",
              "8        9  Fitness Enthusiast   \n",
              "9       10        Movie Critic   \n",
              "\n",
              "                                                 bio  \n",
              "0  Thrives in the company of plants, finds nurtur...  \n",
              "1  Driven by a yearning to explore new cultures a...  \n",
              "2  Embraces the latest technological advancements...  \n",
              "3  Transforms cooking into an art form, experimen...  \n",
              "4  Devours books of all genres, finding solace an...  \n",
              "5  Champions the well-being of animals, volunteer...  \n",
              "6  Fascinated by the past, spending countless hou...  \n",
              "7  Expresses themself through the power of music,...  \n",
              "8  Maintains an active lifestyle, incorporating r...  \n",
              "9  Holds a deep appreciation for cinema, analyzin...  "
            ],
            "text/html": [
              "\n",
              "  <div id=\"df-d8c78bb0-cfa2-402e-8e28-c252190b44bc\" class=\"colab-df-container\">\n",
              "    <div>\n",
              "<style scoped>\n",
              "    .dataframe tbody tr th:only-of-type {\n",
              "        vertical-align: middle;\n",
              "    }\n",
              "\n",
              "    .dataframe tbody tr th {\n",
              "        vertical-align: top;\n",
              "    }\n",
              "\n",
              "    .dataframe thead th {\n",
              "        text-align: right;\n",
              "    }\n",
              "</style>\n",
              "<table border=\"1\" class=\"dataframe\">\n",
              "  <thead>\n",
              "    <tr style=\"text-align: right;\">\n",
              "      <th></th>\n",
              "      <th>user_id</th>\n",
              "      <th>username</th>\n",
              "      <th>bio</th>\n",
              "    </tr>\n",
              "  </thead>\n",
              "  <tbody>\n",
              "    <tr>\n",
              "      <th>0</th>\n",
              "      <td>1</td>\n",
              "      <td>Plant Whisperer</td>\n",
              "      <td>Thrives in the company of plants, finds nurtur...</td>\n",
              "    </tr>\n",
              "    <tr>\n",
              "      <th>1</th>\n",
              "      <td>2</td>\n",
              "      <td>Wanderlust</td>\n",
              "      <td>Driven by a yearning to explore new cultures a...</td>\n",
              "    </tr>\n",
              "    <tr>\n",
              "      <th>2</th>\n",
              "      <td>3</td>\n",
              "      <td>Technophile</td>\n",
              "      <td>Embraces the latest technological advancements...</td>\n",
              "    </tr>\n",
              "    <tr>\n",
              "      <th>3</th>\n",
              "      <td>4</td>\n",
              "      <td>Culinary Artist</td>\n",
              "      <td>Transforms cooking into an art form, experimen...</td>\n",
              "    </tr>\n",
              "    <tr>\n",
              "      <th>4</th>\n",
              "      <td>5</td>\n",
              "      <td>Bookworm</td>\n",
              "      <td>Devours books of all genres, finding solace an...</td>\n",
              "    </tr>\n",
              "    <tr>\n",
              "      <th>5</th>\n",
              "      <td>6</td>\n",
              "      <td>Animal Advocate</td>\n",
              "      <td>Champions the well-being of animals, volunteer...</td>\n",
              "    </tr>\n",
              "    <tr>\n",
              "      <th>6</th>\n",
              "      <td>7</td>\n",
              "      <td>History Buff</td>\n",
              "      <td>Fascinated by the past, spending countless hou...</td>\n",
              "    </tr>\n",
              "    <tr>\n",
              "      <th>7</th>\n",
              "      <td>8</td>\n",
              "      <td>Musician</td>\n",
              "      <td>Expresses themself through the power of music,...</td>\n",
              "    </tr>\n",
              "    <tr>\n",
              "      <th>8</th>\n",
              "      <td>9</td>\n",
              "      <td>Fitness Enthusiast</td>\n",
              "      <td>Maintains an active lifestyle, incorporating r...</td>\n",
              "    </tr>\n",
              "    <tr>\n",
              "      <th>9</th>\n",
              "      <td>10</td>\n",
              "      <td>Movie Critic</td>\n",
              "      <td>Holds a deep appreciation for cinema, analyzin...</td>\n",
              "    </tr>\n",
              "  </tbody>\n",
              "</table>\n",
              "</div>\n",
              "    <div class=\"colab-df-buttons\">\n",
              "\n",
              "  <div class=\"colab-df-container\">\n",
              "    <button class=\"colab-df-convert\" onclick=\"convertToInteractive('df-d8c78bb0-cfa2-402e-8e28-c252190b44bc')\"\n",
              "            title=\"Convert this dataframe to an interactive table.\"\n",
              "            style=\"display:none;\">\n",
              "\n",
              "  <svg xmlns=\"http://www.w3.org/2000/svg\" height=\"24px\" viewBox=\"0 -960 960 960\">\n",
              "    <path d=\"M120-120v-720h720v720H120Zm60-500h600v-160H180v160Zm220 220h160v-160H400v160Zm0 220h160v-160H400v160ZM180-400h160v-160H180v160Zm440 0h160v-160H620v160ZM180-180h160v-160H180v160Zm440 0h160v-160H620v160Z\"/>\n",
              "  </svg>\n",
              "    </button>\n",
              "\n",
              "  <style>\n",
              "    .colab-df-container {\n",
              "      display:flex;\n",
              "      gap: 12px;\n",
              "    }\n",
              "\n",
              "    .colab-df-convert {\n",
              "      background-color: #E8F0FE;\n",
              "      border: none;\n",
              "      border-radius: 50%;\n",
              "      cursor: pointer;\n",
              "      display: none;\n",
              "      fill: #1967D2;\n",
              "      height: 32px;\n",
              "      padding: 0 0 0 0;\n",
              "      width: 32px;\n",
              "    }\n",
              "\n",
              "    .colab-df-convert:hover {\n",
              "      background-color: #E2EBFA;\n",
              "      box-shadow: 0px 1px 2px rgba(60, 64, 67, 0.3), 0px 1px 3px 1px rgba(60, 64, 67, 0.15);\n",
              "      fill: #174EA6;\n",
              "    }\n",
              "\n",
              "    .colab-df-buttons div {\n",
              "      margin-bottom: 4px;\n",
              "    }\n",
              "\n",
              "    [theme=dark] .colab-df-convert {\n",
              "      background-color: #3B4455;\n",
              "      fill: #D2E3FC;\n",
              "    }\n",
              "\n",
              "    [theme=dark] .colab-df-convert:hover {\n",
              "      background-color: #434B5C;\n",
              "      box-shadow: 0px 1px 3px 1px rgba(0, 0, 0, 0.15);\n",
              "      filter: drop-shadow(0px 1px 2px rgba(0, 0, 0, 0.3));\n",
              "      fill: #FFFFFF;\n",
              "    }\n",
              "  </style>\n",
              "\n",
              "    <script>\n",
              "      const buttonEl =\n",
              "        document.querySelector('#df-d8c78bb0-cfa2-402e-8e28-c252190b44bc button.colab-df-convert');\n",
              "      buttonEl.style.display =\n",
              "        google.colab.kernel.accessAllowed ? 'block' : 'none';\n",
              "\n",
              "      async function convertToInteractive(key) {\n",
              "        const element = document.querySelector('#df-d8c78bb0-cfa2-402e-8e28-c252190b44bc');\n",
              "        const dataTable =\n",
              "          await google.colab.kernel.invokeFunction('convertToInteractive',\n",
              "                                                    [key], {});\n",
              "        if (!dataTable) return;\n",
              "\n",
              "        const docLinkHtml = 'Like what you see? Visit the ' +\n",
              "          '<a target=\"_blank\" href=https://colab.research.google.com/notebooks/data_table.ipynb>data table notebook</a>'\n",
              "          + ' to learn more about interactive tables.';\n",
              "        element.innerHTML = '';\n",
              "        dataTable['output_type'] = 'display_data';\n",
              "        await google.colab.output.renderOutput(dataTable, element);\n",
              "        const docLink = document.createElement('div');\n",
              "        docLink.innerHTML = docLinkHtml;\n",
              "        element.appendChild(docLink);\n",
              "      }\n",
              "    </script>\n",
              "  </div>\n",
              "\n",
              "\n",
              "<div id=\"df-cea7e253-4df8-474c-a008-f627e594f805\">\n",
              "  <button class=\"colab-df-quickchart\" onclick=\"quickchart('df-cea7e253-4df8-474c-a008-f627e594f805')\"\n",
              "            title=\"Suggest charts\"\n",
              "            style=\"display:none;\">\n",
              "\n",
              "<svg xmlns=\"http://www.w3.org/2000/svg\" height=\"24px\"viewBox=\"0 0 24 24\"\n",
              "     width=\"24px\">\n",
              "    <g>\n",
              "        <path d=\"M19 3H5c-1.1 0-2 .9-2 2v14c0 1.1.9 2 2 2h14c1.1 0 2-.9 2-2V5c0-1.1-.9-2-2-2zM9 17H7v-7h2v7zm4 0h-2V7h2v10zm4 0h-2v-4h2v4z\"/>\n",
              "    </g>\n",
              "</svg>\n",
              "  </button>\n",
              "\n",
              "<style>\n",
              "  .colab-df-quickchart {\n",
              "      --bg-color: #E8F0FE;\n",
              "      --fill-color: #1967D2;\n",
              "      --hover-bg-color: #E2EBFA;\n",
              "      --hover-fill-color: #174EA6;\n",
              "      --disabled-fill-color: #AAA;\n",
              "      --disabled-bg-color: #DDD;\n",
              "  }\n",
              "\n",
              "  [theme=dark] .colab-df-quickchart {\n",
              "      --bg-color: #3B4455;\n",
              "      --fill-color: #D2E3FC;\n",
              "      --hover-bg-color: #434B5C;\n",
              "      --hover-fill-color: #FFFFFF;\n",
              "      --disabled-bg-color: #3B4455;\n",
              "      --disabled-fill-color: #666;\n",
              "  }\n",
              "\n",
              "  .colab-df-quickchart {\n",
              "    background-color: var(--bg-color);\n",
              "    border: none;\n",
              "    border-radius: 50%;\n",
              "    cursor: pointer;\n",
              "    display: none;\n",
              "    fill: var(--fill-color);\n",
              "    height: 32px;\n",
              "    padding: 0;\n",
              "    width: 32px;\n",
              "  }\n",
              "\n",
              "  .colab-df-quickchart:hover {\n",
              "    background-color: var(--hover-bg-color);\n",
              "    box-shadow: 0 1px 2px rgba(60, 64, 67, 0.3), 0 1px 3px 1px rgba(60, 64, 67, 0.15);\n",
              "    fill: var(--button-hover-fill-color);\n",
              "  }\n",
              "\n",
              "  .colab-df-quickchart-complete:disabled,\n",
              "  .colab-df-quickchart-complete:disabled:hover {\n",
              "    background-color: var(--disabled-bg-color);\n",
              "    fill: var(--disabled-fill-color);\n",
              "    box-shadow: none;\n",
              "  }\n",
              "\n",
              "  .colab-df-spinner {\n",
              "    border: 2px solid var(--fill-color);\n",
              "    border-color: transparent;\n",
              "    border-bottom-color: var(--fill-color);\n",
              "    animation:\n",
              "      spin 1s steps(1) infinite;\n",
              "  }\n",
              "\n",
              "  @keyframes spin {\n",
              "    0% {\n",
              "      border-color: transparent;\n",
              "      border-bottom-color: var(--fill-color);\n",
              "      border-left-color: var(--fill-color);\n",
              "    }\n",
              "    20% {\n",
              "      border-color: transparent;\n",
              "      border-left-color: var(--fill-color);\n",
              "      border-top-color: var(--fill-color);\n",
              "    }\n",
              "    30% {\n",
              "      border-color: transparent;\n",
              "      border-left-color: var(--fill-color);\n",
              "      border-top-color: var(--fill-color);\n",
              "      border-right-color: var(--fill-color);\n",
              "    }\n",
              "    40% {\n",
              "      border-color: transparent;\n",
              "      border-right-color: var(--fill-color);\n",
              "      border-top-color: var(--fill-color);\n",
              "    }\n",
              "    60% {\n",
              "      border-color: transparent;\n",
              "      border-right-color: var(--fill-color);\n",
              "    }\n",
              "    80% {\n",
              "      border-color: transparent;\n",
              "      border-right-color: var(--fill-color);\n",
              "      border-bottom-color: var(--fill-color);\n",
              "    }\n",
              "    90% {\n",
              "      border-color: transparent;\n",
              "      border-bottom-color: var(--fill-color);\n",
              "    }\n",
              "  }\n",
              "</style>\n",
              "\n",
              "  <script>\n",
              "    async function quickchart(key) {\n",
              "      const quickchartButtonEl =\n",
              "        document.querySelector('#' + key + ' button');\n",
              "      quickchartButtonEl.disabled = true;  // To prevent multiple clicks.\n",
              "      quickchartButtonEl.classList.add('colab-df-spinner');\n",
              "      try {\n",
              "        const charts = await google.colab.kernel.invokeFunction(\n",
              "            'suggestCharts', [key], {});\n",
              "      } catch (error) {\n",
              "        console.error('Error during call to suggestCharts:', error);\n",
              "      }\n",
              "      quickchartButtonEl.classList.remove('colab-df-spinner');\n",
              "      quickchartButtonEl.classList.add('colab-df-quickchart-complete');\n",
              "    }\n",
              "    (() => {\n",
              "      let quickchartButtonEl =\n",
              "        document.querySelector('#df-cea7e253-4df8-474c-a008-f627e594f805 button');\n",
              "      quickchartButtonEl.style.display =\n",
              "        google.colab.kernel.accessAllowed ? 'block' : 'none';\n",
              "    })();\n",
              "  </script>\n",
              "</div>\n",
              "    </div>\n",
              "  </div>\n"
            ],
            "application/vnd.google.colaboratory.intrinsic+json": {
              "type": "dataframe",
              "variable_name": "df",
              "summary": "{\n  \"name\": \"df\",\n  \"rows\": 25,\n  \"fields\": [\n    {\n      \"column\": \"user_id\",\n      \"properties\": {\n        \"dtype\": \"number\",\n        \"std\": 7,\n        \"min\": 1,\n        \"max\": 25,\n        \"num_unique_values\": 25,\n        \"samples\": [\n          9,\n          17,\n          1\n        ],\n        \"semantic_type\": \"\",\n        \"description\": \"\"\n      }\n    },\n    {\n      \"column\": \"username\",\n      \"properties\": {\n        \"dtype\": \"string\",\n        \"num_unique_values\": 23,\n        \"samples\": [\n          \"BookClubber\",\n          \"Movie Critic\",\n          \"Plant Whisperer\"\n        ],\n        \"semantic_type\": \"\",\n        \"description\": \"\"\n      }\n    },\n    {\n      \"column\": \"bio\",\n      \"properties\": {\n        \"dtype\": \"string\",\n        \"num_unique_values\": 25,\n        \"samples\": [\n          \"Maintains an active lifestyle, incorporating regular exercise into their daily routine. Encourages others to embrace healthy habits and discover the joy of movement.\",\n          \"Enjoys the challenge and competition of video games, especially strategy and role-playing games.\\t\\t\\t\\t\\t\",\n          \"Thrives in the company of plants, finds nurturing them both calming and rewarding. Believes they have a knack for reviving even the most neglected greenery.\"\n        ],\n        \"semantic_type\": \"\",\n        \"description\": \"\"\n      }\n    }\n  ]\n}"
            }
          },
          "metadata": {},
          "execution_count": 12
        }
      ]
    },
    {
      "cell_type": "code",
      "execution_count": 13,
      "id": "00b55cdb",
      "metadata": {
        "id": "00b55cdb"
      },
      "outputs": [],
      "source": [
        "# Function for sentiment analysis using TextBlob\n",
        "def calculate_sentiment(bio):\n",
        "    analysis = TextBlob(bio)\n",
        "    return analysis.sentiment.polarity"
      ]
    },
    {
      "cell_type": "code",
      "execution_count": 14,
      "id": "a8f6f1ad",
      "metadata": {
        "id": "a8f6f1ad"
      },
      "outputs": [],
      "source": [
        "# Tokenization and stemming using NLTK\n",
        "def tokenize_and_stem(bio):\n",
        "    tokens = word_tokenize(bio)\n",
        "    stemmer = PorterStemmer()\n",
        "    stemmed_tokens = [stemmer.stem(token) for token in tokens]\n",
        "    return stemmed_tokens"
      ]
    },
    {
      "cell_type": "code",
      "execution_count": 15,
      "id": "51c56b4b",
      "metadata": {
        "id": "51c56b4b"
      },
      "outputs": [],
      "source": [
        "# Apply sentiment analysis, tokenization, and stemming\n",
        "df['sentiment_score'] = df['bio'].apply(calculate_sentiment)\n",
        "df['tokenized_and_stemmed'] = df['bio'].apply(tokenize_and_stem)"
      ]
    },
    {
      "cell_type": "code",
      "execution_count": 16,
      "id": "f5fce044",
      "metadata": {
        "id": "f5fce044"
      },
      "outputs": [],
      "source": [
        "# Calculate average sentiment score\n",
        "average_sentiment = df['sentiment_score'].mean()"
      ]
    },
    {
      "cell_type": "code",
      "execution_count": 17,
      "id": "3282ca17",
      "metadata": {
        "id": "3282ca17"
      },
      "outputs": [],
      "source": [
        "# Categorize data into 'above_average' and 'below_average'\n",
        "df['category'] = df['sentiment_score'].apply(lambda x: 'above_average' if x >= average_sentiment else 'below_average')"
      ]
    },
    {
      "cell_type": "code",
      "execution_count": 18,
      "id": "615335b1",
      "metadata": {
        "id": "615335b1"
      },
      "outputs": [],
      "source": [
        "# Sort the DataFrame based on sentiment scores\n",
        "df_sorted = df.sort_values(by='sentiment_score')"
      ]
    },
    {
      "cell_type": "code",
      "execution_count": 19,
      "id": "615bb3ca",
      "metadata": {
        "id": "615bb3ca"
      },
      "outputs": [],
      "source": [
        "# Select the top 20% and bottom 20% of the dataset\n",
        "top_20_percent = df_sorted.tail(int(0.2 * len(df_sorted)))\n",
        "bottom_20_percent = df_sorted.head(int(0.2 * len(df_sorted)))"
      ]
    },
    {
      "cell_type": "code",
      "source": [
        "import string\n",
        "import spacy\n",
        "!python -m spacy download en_core_web_lg\n",
        "nlp = spacy.load('en_core_web_lg')\n"
      ],
      "metadata": {
        "colab": {
          "base_uri": "https://localhost:8080/"
        },
        "id": "SD_On1xKR7HG",
        "outputId": "448d9101-ecf2-4df7-bea0-bb6b60109d13"
      },
      "id": "SD_On1xKR7HG",
      "execution_count": 20,
      "outputs": [
        {
          "output_type": "stream",
          "name": "stdout",
          "text": [
            "Collecting en-core-web-lg==3.7.1\n",
            "  Downloading https://github.com/explosion/spacy-models/releases/download/en_core_web_lg-3.7.1/en_core_web_lg-3.7.1-py3-none-any.whl (587.7 MB)\n",
            "\u001b[2K     \u001b[90m━━━━━━━━━━━━━━━━━━━━━━━━━━━━━━━━━━━━━━━━\u001b[0m \u001b[32m587.7/587.7 MB\u001b[0m \u001b[31m2.2 MB/s\u001b[0m eta \u001b[36m0:00:00\u001b[0m\n",
            "\u001b[?25hRequirement already satisfied: spacy<3.8.0,>=3.7.2 in /usr/local/lib/python3.10/dist-packages (from en-core-web-lg==3.7.1) (3.7.4)\n",
            "Requirement already satisfied: spacy-legacy<3.1.0,>=3.0.11 in /usr/local/lib/python3.10/dist-packages (from spacy<3.8.0,>=3.7.2->en-core-web-lg==3.7.1) (3.0.12)\n",
            "Requirement already satisfied: spacy-loggers<2.0.0,>=1.0.0 in /usr/local/lib/python3.10/dist-packages (from spacy<3.8.0,>=3.7.2->en-core-web-lg==3.7.1) (1.0.5)\n",
            "Requirement already satisfied: murmurhash<1.1.0,>=0.28.0 in /usr/local/lib/python3.10/dist-packages (from spacy<3.8.0,>=3.7.2->en-core-web-lg==3.7.1) (1.0.10)\n",
            "Requirement already satisfied: cymem<2.1.0,>=2.0.2 in /usr/local/lib/python3.10/dist-packages (from spacy<3.8.0,>=3.7.2->en-core-web-lg==3.7.1) (2.0.8)\n",
            "Requirement already satisfied: preshed<3.1.0,>=3.0.2 in /usr/local/lib/python3.10/dist-packages (from spacy<3.8.0,>=3.7.2->en-core-web-lg==3.7.1) (3.0.9)\n",
            "Requirement already satisfied: thinc<8.3.0,>=8.2.2 in /usr/local/lib/python3.10/dist-packages (from spacy<3.8.0,>=3.7.2->en-core-web-lg==3.7.1) (8.2.3)\n",
            "Requirement already satisfied: wasabi<1.2.0,>=0.9.1 in /usr/local/lib/python3.10/dist-packages (from spacy<3.8.0,>=3.7.2->en-core-web-lg==3.7.1) (1.1.2)\n",
            "Requirement already satisfied: srsly<3.0.0,>=2.4.3 in /usr/local/lib/python3.10/dist-packages (from spacy<3.8.0,>=3.7.2->en-core-web-lg==3.7.1) (2.4.8)\n",
            "Requirement already satisfied: catalogue<2.1.0,>=2.0.6 in /usr/local/lib/python3.10/dist-packages (from spacy<3.8.0,>=3.7.2->en-core-web-lg==3.7.1) (2.0.10)\n",
            "Requirement already satisfied: weasel<0.4.0,>=0.1.0 in /usr/local/lib/python3.10/dist-packages (from spacy<3.8.0,>=3.7.2->en-core-web-lg==3.7.1) (0.3.4)\n",
            "Requirement already satisfied: typer<0.10.0,>=0.3.0 in /usr/local/lib/python3.10/dist-packages (from spacy<3.8.0,>=3.7.2->en-core-web-lg==3.7.1) (0.9.0)\n",
            "Requirement already satisfied: smart-open<7.0.0,>=5.2.1 in /usr/local/lib/python3.10/dist-packages (from spacy<3.8.0,>=3.7.2->en-core-web-lg==3.7.1) (6.4.0)\n",
            "Requirement already satisfied: tqdm<5.0.0,>=4.38.0 in /usr/local/lib/python3.10/dist-packages (from spacy<3.8.0,>=3.7.2->en-core-web-lg==3.7.1) (4.66.2)\n",
            "Requirement already satisfied: requests<3.0.0,>=2.13.0 in /usr/local/lib/python3.10/dist-packages (from spacy<3.8.0,>=3.7.2->en-core-web-lg==3.7.1) (2.31.0)\n",
            "Requirement already satisfied: pydantic!=1.8,!=1.8.1,<3.0.0,>=1.7.4 in /usr/local/lib/python3.10/dist-packages (from spacy<3.8.0,>=3.7.2->en-core-web-lg==3.7.1) (2.6.3)\n",
            "Requirement already satisfied: jinja2 in /usr/local/lib/python3.10/dist-packages (from spacy<3.8.0,>=3.7.2->en-core-web-lg==3.7.1) (3.1.3)\n",
            "Requirement already satisfied: setuptools in /usr/local/lib/python3.10/dist-packages (from spacy<3.8.0,>=3.7.2->en-core-web-lg==3.7.1) (67.7.2)\n",
            "Requirement already satisfied: packaging>=20.0 in /usr/local/lib/python3.10/dist-packages (from spacy<3.8.0,>=3.7.2->en-core-web-lg==3.7.1) (23.2)\n",
            "Requirement already satisfied: langcodes<4.0.0,>=3.2.0 in /usr/local/lib/python3.10/dist-packages (from spacy<3.8.0,>=3.7.2->en-core-web-lg==3.7.1) (3.3.0)\n",
            "Requirement already satisfied: numpy>=1.19.0 in /usr/local/lib/python3.10/dist-packages (from spacy<3.8.0,>=3.7.2->en-core-web-lg==3.7.1) (1.25.2)\n",
            "Requirement already satisfied: annotated-types>=0.4.0 in /usr/local/lib/python3.10/dist-packages (from pydantic!=1.8,!=1.8.1,<3.0.0,>=1.7.4->spacy<3.8.0,>=3.7.2->en-core-web-lg==3.7.1) (0.6.0)\n",
            "Requirement already satisfied: pydantic-core==2.16.3 in /usr/local/lib/python3.10/dist-packages (from pydantic!=1.8,!=1.8.1,<3.0.0,>=1.7.4->spacy<3.8.0,>=3.7.2->en-core-web-lg==3.7.1) (2.16.3)\n",
            "Requirement already satisfied: typing-extensions>=4.6.1 in /usr/local/lib/python3.10/dist-packages (from pydantic!=1.8,!=1.8.1,<3.0.0,>=1.7.4->spacy<3.8.0,>=3.7.2->en-core-web-lg==3.7.1) (4.10.0)\n",
            "Requirement already satisfied: charset-normalizer<4,>=2 in /usr/local/lib/python3.10/dist-packages (from requests<3.0.0,>=2.13.0->spacy<3.8.0,>=3.7.2->en-core-web-lg==3.7.1) (3.3.2)\n",
            "Requirement already satisfied: idna<4,>=2.5 in /usr/local/lib/python3.10/dist-packages (from requests<3.0.0,>=2.13.0->spacy<3.8.0,>=3.7.2->en-core-web-lg==3.7.1) (3.6)\n",
            "Requirement already satisfied: urllib3<3,>=1.21.1 in /usr/local/lib/python3.10/dist-packages (from requests<3.0.0,>=2.13.0->spacy<3.8.0,>=3.7.2->en-core-web-lg==3.7.1) (2.0.7)\n",
            "Requirement already satisfied: certifi>=2017.4.17 in /usr/local/lib/python3.10/dist-packages (from requests<3.0.0,>=2.13.0->spacy<3.8.0,>=3.7.2->en-core-web-lg==3.7.1) (2024.2.2)\n",
            "Requirement already satisfied: blis<0.8.0,>=0.7.8 in /usr/local/lib/python3.10/dist-packages (from thinc<8.3.0,>=8.2.2->spacy<3.8.0,>=3.7.2->en-core-web-lg==3.7.1) (0.7.11)\n",
            "Requirement already satisfied: confection<1.0.0,>=0.0.1 in /usr/local/lib/python3.10/dist-packages (from thinc<8.3.0,>=8.2.2->spacy<3.8.0,>=3.7.2->en-core-web-lg==3.7.1) (0.1.4)\n",
            "Requirement already satisfied: click<9.0.0,>=7.1.1 in /usr/local/lib/python3.10/dist-packages (from typer<0.10.0,>=0.3.0->spacy<3.8.0,>=3.7.2->en-core-web-lg==3.7.1) (8.1.7)\n",
            "Requirement already satisfied: cloudpathlib<0.17.0,>=0.7.0 in /usr/local/lib/python3.10/dist-packages (from weasel<0.4.0,>=0.1.0->spacy<3.8.0,>=3.7.2->en-core-web-lg==3.7.1) (0.16.0)\n",
            "Requirement already satisfied: MarkupSafe>=2.0 in /usr/local/lib/python3.10/dist-packages (from jinja2->spacy<3.8.0,>=3.7.2->en-core-web-lg==3.7.1) (2.1.5)\n",
            "Installing collected packages: en-core-web-lg\n",
            "Successfully installed en-core-web-lg-3.7.1\n",
            "\u001b[38;5;2m✔ Download and installation successful\u001b[0m\n",
            "You can now load the package via spacy.load('en_core_web_lg')\n",
            "\u001b[38;5;3m⚠ Restart to reload dependencies\u001b[0m\n",
            "If you are in a Jupyter or Colab notebook, you may need to restart Python in\n",
            "order to load all the package's dependencies. You can do this by selecting the\n",
            "'Restart kernel' or 'Restart runtime' option.\n"
          ]
        }
      ]
    },
    {
      "cell_type": "code",
      "source": [
        "# Function for POS tagging\n",
        "def pos_tagging(text):\n",
        "    # Process the text with spaCy\n",
        "    doc = nlp(text)\n",
        "\n",
        "    # Extract POS tags\n",
        "    pos_tags = [(token.text, token.pos_) for token in doc]\n",
        "\n",
        "    return pos_tags\n",
        "\n",
        "# Apply POS tagging to the 'text' column\n",
        "df['pos_tags'] = df['bio'].apply(pos_tagging)\n",
        "\n",
        "# Display the DataFrame with original text and POS tags\n",
        "print(df[['bio', 'pos_tags']])"
      ],
      "metadata": {
        "colab": {
          "base_uri": "https://localhost:8080/"
        },
        "id": "HP9DQl-9SPxN",
        "outputId": "5782a7b2-57dc-40ac-ac71-f1afbb56eaef"
      },
      "id": "HP9DQl-9SPxN",
      "execution_count": 21,
      "outputs": [
        {
          "output_type": "stream",
          "name": "stdout",
          "text": [
            "                                                  bio  \\\n",
            "0   Thrives in the company of plants, finds nurtur...   \n",
            "1   Driven by a yearning to explore new cultures a...   \n",
            "2   Embraces the latest technological advancements...   \n",
            "3   Transforms cooking into an art form, experimen...   \n",
            "4   Devours books of all genres, finding solace an...   \n",
            "5   Champions the well-being of animals, volunteer...   \n",
            "6   Fascinated by the past, spending countless hou...   \n",
            "7   Expresses themself through the power of music,...   \n",
            "8   Maintains an active lifestyle, incorporating r...   \n",
            "9   Holds a deep appreciation for cinema, analyzin...   \n",
            "10  Enjoys getting lost in a good book and explori...   \n",
            "11  Passionate about all things tech, loves keepin...   \n",
            "12  Finds peace and joy in spending time outdoors,...   \n",
            "13  Expresses creativity through music, enjoys pla...   \n",
            "14  Loves trying new cuisines and experimenting wi...   \n",
            "15  Expresses themselves through various art forms...   \n",
            "16  Enjoys the challenge and competition of video ...   \n",
            "17  Enjoys discussing and analyzing books with lik...   \n",
            "18  Has a passion for film and loves watching movi...   \n",
            "19  Prioritizes health and wellness, enjoys variou...   \n",
            "20  Gazes at the night sky with wonder and fascina...   \n",
            "21  Captivated by the power of language, weaving w...   \n",
            "22  Passionate about protecting the environment an...   \n",
            "23  Enjoys experimenting in the kitchen, trying ne...   \n",
            "24  Shares their passion for technology through on...   \n",
            "\n",
            "                                             pos_tags  \n",
            "0   [(Thrives, NOUN), (in, ADP), (the, DET), (comp...  \n",
            "1   [(Driven, VERB), (by, ADP), (a, DET), (yearnin...  \n",
            "2   [(Embraces, VERB), (the, DET), (latest, ADJ), ...  \n",
            "3   [(Transforms, NOUN), (cooking, VERB), (into, A...  \n",
            "4   [(Devours, NOUN), (books, NOUN), (of, ADP), (a...  \n",
            "5   [(Champions, NOUN), (the, DET), (well, ADV), (...  \n",
            "6   [(Fascinated, VERB), (by, ADP), (the, DET), (p...  \n",
            "7   [(Expresses, NOUN), (themself, PRON), (through...  \n",
            "8   [(Maintains, VERB), (an, DET), (active, ADJ), ...  \n",
            "9   [(Holds, VERB), (a, DET), (deep, ADJ), (apprec...  \n",
            "10  [(Enjoys, VERB), (getting, AUX), (lost, VERB),...  \n",
            "11  [(Passionate, VERB), (about, ADP), (all, DET),...  \n",
            "12  [(Finds, VERB), (peace, NOUN), (and, CCONJ), (...  \n",
            "13  [(Expresses, NOUN), (creativity, NOUN), (throu...  \n",
            "14  [(Loves, AUX), (trying, VERB), (new, ADJ), (cu...  \n",
            "15  [(Expresses, VERB), (themselves, PRON), (throu...  \n",
            "16  [(Enjoys, VERB), (the, DET), (challenge, NOUN)...  \n",
            "17  [(Enjoys, VERB), (discussing, VERB), (and, CCO...  \n",
            "18  [(Has, VERB), (a, DET), (passion, NOUN), (for,...  \n",
            "19  [(Prioritizes, NOUN), (health, NOUN), (and, CC...  \n",
            "20  [(Gazes, NOUN), (at, ADP), (the, DET), (night,...  \n",
            "21  [(Captivated, VERB), (by, ADP), (the, DET), (p...  \n",
            "22  [(Passionate, ADJ), (about, ADP), (protecting,...  \n",
            "23  [(Enjoys, NOUN), (experimenting, VERB), (in, A...  \n",
            "24  [(Shares, NOUN), (their, PRON), (passion, NOUN...  \n"
          ]
        }
      ]
    },
    {
      "cell_type": "code",
      "execution_count": 22,
      "id": "cde66ddd",
      "metadata": {
        "id": "cde66ddd"
      },
      "outputs": [],
      "source": [
        "# Display the results"
      ]
    },
    {
      "cell_type": "code",
      "execution_count": 23,
      "id": "ea20e0cb",
      "metadata": {
        "colab": {
          "base_uri": "https://localhost:8080/"
        },
        "id": "ea20e0cb",
        "outputId": "9fbf94e8-b98d-4de2-f97d-581e88b5d6ac"
      },
      "outputs": [
        {
          "output_type": "stream",
          "name": "stdout",
          "text": [
            "Original DataFrame:\n",
            "    user_id            username  \\\n",
            "0         1     Plant Whisperer   \n",
            "1         2          Wanderlust   \n",
            "2         3         Technophile   \n",
            "3         4     Culinary Artist   \n",
            "4         5            Bookworm   \n",
            "5         6     Animal Advocate   \n",
            "6         7        History Buff   \n",
            "7         8            Musician   \n",
            "8         9  Fitness Enthusiast   \n",
            "9        10        Movie Critic   \n",
            "10       11            Bookworm   \n",
            "11       12             TechWiz   \n",
            "12       13         NatureLover   \n",
            "13       14            Musician   \n",
            "14       15              Foodie   \n",
            "15       16              Artist   \n",
            "16       17               Gamer   \n",
            "17       18         BookClubber   \n",
            "18       19           MovieBuff   \n",
            "19       20          FitnessFan   \n",
            "20       21           Stargazer   \n",
            "21       22           Wordsmith   \n",
            "22       23         Eco-Warrior   \n",
            "23       24       Hobbyist Chef   \n",
            "24       25        Tech Creator   \n",
            "\n",
            "                                                  bio  sentiment_score  \\\n",
            "0   Thrives in the company of plants, finds nurtur...         0.500000   \n",
            "1   Driven by a yearning to explore new cultures a...        -0.015152   \n",
            "2   Embraces the latest technological advancements...         0.221591   \n",
            "3   Transforms cooking into an art form, experimen...         0.218750   \n",
            "4   Devours books of all genres, finding solace an...         0.000000   \n",
            "5   Champions the well-being of animals, volunteer...         0.500000   \n",
            "6   Fascinated by the past, spending countless hou...        -0.050000   \n",
            "7   Expresses themself through the power of music,...         0.158333   \n",
            "8   Maintains an active lifestyle, incorporating r...         0.233333   \n",
            "9   Holds a deep appreciation for cinema, analyzin...         0.045455   \n",
            "10  Enjoys getting lost in a good book and explori...         0.350000   \n",
            "11  Passionate about all things tech, loves keepin...         0.225000   \n",
            "12  Finds peace and joy in spending time outdoors,...         0.400000   \n",
            "13  Expresses creativity through music, enjoys pla...         0.000000   \n",
            "14  Loves trying new cuisines and experimenting wi...         0.068182   \n",
            "15  Expresses themselves through various art forms...         0.000000   \n",
            "16  Enjoys the challenge and competition of video ...         0.000000   \n",
            "17  Enjoys discussing and analyzing books with lik...         0.000000   \n",
            "18  Has a passion for film and loves watching movi...         0.000000   \n",
            "19  Prioritizes health and wellness, enjoys variou...         0.250000   \n",
            "20  Gazes at the night sky with wonder and fascina...         0.000000   \n",
            "21  Captivated by the power of language, weaving w...         0.500000   \n",
            "22  Passionate about protecting the environment an...         0.072222   \n",
            "23  Enjoys experimenting in the kitchen, trying ne...         0.500606   \n",
            "24  Shares their passion for technology through on...         0.350000   \n",
            "\n",
            "                                tokenized_and_stemmed       category  \\\n",
            "0   [thrive, in, the, compani, of, plant, ,, find,...  above_average   \n",
            "1   [driven, by, a, yearn, to, explor, new, cultur...  below_average   \n",
            "2   [embrac, the, latest, technolog, advanc, and, ...  above_average   \n",
            "3   [transform, cook, into, an, art, form, ,, expe...  above_average   \n",
            "4   [devour, book, of, all, genr, ,, find, solac, ...  below_average   \n",
            "5   [champion, the, well-b, of, anim, ,, volunt, a...  above_average   \n",
            "6   [fascin, by, the, past, ,, spend, countless, h...  below_average   \n",
            "7   [express, themself, through, the, power, of, m...  below_average   \n",
            "8   [maintain, an, activ, lifestyl, ,, incorpor, r...  above_average   \n",
            "9   [hold, a, deep, appreci, for, cinema, ,, analy...  below_average   \n",
            "10  [enjoy, get, lost, in, a, good, book, and, exp...  above_average   \n",
            "11  [passion, about, all, thing, tech, ,, love, ke...  above_average   \n",
            "12  [find, peac, and, joy, in, spend, time, outdoo...  above_average   \n",
            "13  [express, creativ, through, music, ,, enjoy, p...  below_average   \n",
            "14  [love, tri, new, cuisin, and, experi, with, di...  below_average   \n",
            "15  [express, themselv, through, variou, art, form...  below_average   \n",
            "16  [enjoy, the, challeng, and, competit, of, vide...  below_average   \n",
            "17  [enjoy, discuss, and, analyz, book, with, like...  below_average   \n",
            "18  [ha, a, passion, for, film, and, love, watch, ...  below_average   \n",
            "19  [priorit, health, and, well, ,, enjoy, variou,...  above_average   \n",
            "20  [gaze, at, the, night, sky, with, wonder, and,...  below_average   \n",
            "21  [captiv, by, the, power, of, languag, ,, weav,...  above_average   \n",
            "22  [passion, about, protect, the, environ, and, p...  below_average   \n",
            "23  [enjoy, experi, in, the, kitchen, ,, tri, new,...  above_average   \n",
            "24  [share, their, passion, for, technolog, throug...  above_average   \n",
            "\n",
            "                                             pos_tags  \n",
            "0   [(Thrives, NOUN), (in, ADP), (the, DET), (comp...  \n",
            "1   [(Driven, VERB), (by, ADP), (a, DET), (yearnin...  \n",
            "2   [(Embraces, VERB), (the, DET), (latest, ADJ), ...  \n",
            "3   [(Transforms, NOUN), (cooking, VERB), (into, A...  \n",
            "4   [(Devours, NOUN), (books, NOUN), (of, ADP), (a...  \n",
            "5   [(Champions, NOUN), (the, DET), (well, ADV), (...  \n",
            "6   [(Fascinated, VERB), (by, ADP), (the, DET), (p...  \n",
            "7   [(Expresses, NOUN), (themself, PRON), (through...  \n",
            "8   [(Maintains, VERB), (an, DET), (active, ADJ), ...  \n",
            "9   [(Holds, VERB), (a, DET), (deep, ADJ), (apprec...  \n",
            "10  [(Enjoys, VERB), (getting, AUX), (lost, VERB),...  \n",
            "11  [(Passionate, VERB), (about, ADP), (all, DET),...  \n",
            "12  [(Finds, VERB), (peace, NOUN), (and, CCONJ), (...  \n",
            "13  [(Expresses, NOUN), (creativity, NOUN), (throu...  \n",
            "14  [(Loves, AUX), (trying, VERB), (new, ADJ), (cu...  \n",
            "15  [(Expresses, VERB), (themselves, PRON), (throu...  \n",
            "16  [(Enjoys, VERB), (the, DET), (challenge, NOUN)...  \n",
            "17  [(Enjoys, VERB), (discussing, VERB), (and, CCO...  \n",
            "18  [(Has, VERB), (a, DET), (passion, NOUN), (for,...  \n",
            "19  [(Prioritizes, NOUN), (health, NOUN), (and, CC...  \n",
            "20  [(Gazes, NOUN), (at, ADP), (the, DET), (night,...  \n",
            "21  [(Captivated, VERB), (by, ADP), (the, DET), (p...  \n",
            "22  [(Passionate, ADJ), (about, ADP), (protecting,...  \n",
            "23  [(Enjoys, NOUN), (experimenting, VERB), (in, A...  \n",
            "24  [(Shares, NOUN), (their, PRON), (passion, NOUN...  \n"
          ]
        }
      ],
      "source": [
        "print(\"Original DataFrame:\")\n",
        "print(df)"
      ]
    },
    {
      "cell_type": "code",
      "execution_count": 24,
      "id": "4e2f1952",
      "metadata": {
        "colab": {
          "base_uri": "https://localhost:8080/"
        },
        "id": "4e2f1952",
        "outputId": "f7e29229-5cb8-4e9e-af7c-1333021dd28a"
      },
      "outputs": [
        {
          "output_type": "stream",
          "name": "stdout",
          "text": [
            "DataFrame Sorted by Sentiment Score:\n",
            "    user_id            username  \\\n",
            "6         7        History Buff   \n",
            "1         2          Wanderlust   \n",
            "16       17               Gamer   \n",
            "13       14            Musician   \n",
            "20       21           Stargazer   \n",
            "4         5            Bookworm   \n",
            "17       18         BookClubber   \n",
            "18       19           MovieBuff   \n",
            "15       16              Artist   \n",
            "9        10        Movie Critic   \n",
            "14       15              Foodie   \n",
            "22       23         Eco-Warrior   \n",
            "7         8            Musician   \n",
            "3         4     Culinary Artist   \n",
            "2         3         Technophile   \n",
            "11       12             TechWiz   \n",
            "8         9  Fitness Enthusiast   \n",
            "19       20          FitnessFan   \n",
            "10       11            Bookworm   \n",
            "24       25        Tech Creator   \n",
            "12       13         NatureLover   \n",
            "21       22           Wordsmith   \n",
            "5         6     Animal Advocate   \n",
            "0         1     Plant Whisperer   \n",
            "23       24       Hobbyist Chef   \n",
            "\n",
            "                                                  bio  sentiment_score  \\\n",
            "6   Fascinated by the past, spending countless hou...        -0.050000   \n",
            "1   Driven by a yearning to explore new cultures a...        -0.015152   \n",
            "16  Enjoys the challenge and competition of video ...         0.000000   \n",
            "13  Expresses creativity through music, enjoys pla...         0.000000   \n",
            "20  Gazes at the night sky with wonder and fascina...         0.000000   \n",
            "4   Devours books of all genres, finding solace an...         0.000000   \n",
            "17  Enjoys discussing and analyzing books with lik...         0.000000   \n",
            "18  Has a passion for film and loves watching movi...         0.000000   \n",
            "15  Expresses themselves through various art forms...         0.000000   \n",
            "9   Holds a deep appreciation for cinema, analyzin...         0.045455   \n",
            "14  Loves trying new cuisines and experimenting wi...         0.068182   \n",
            "22  Passionate about protecting the environment an...         0.072222   \n",
            "7   Expresses themself through the power of music,...         0.158333   \n",
            "3   Transforms cooking into an art form, experimen...         0.218750   \n",
            "2   Embraces the latest technological advancements...         0.221591   \n",
            "11  Passionate about all things tech, loves keepin...         0.225000   \n",
            "8   Maintains an active lifestyle, incorporating r...         0.233333   \n",
            "19  Prioritizes health and wellness, enjoys variou...         0.250000   \n",
            "10  Enjoys getting lost in a good book and explori...         0.350000   \n",
            "24  Shares their passion for technology through on...         0.350000   \n",
            "12  Finds peace and joy in spending time outdoors,...         0.400000   \n",
            "21  Captivated by the power of language, weaving w...         0.500000   \n",
            "5   Champions the well-being of animals, volunteer...         0.500000   \n",
            "0   Thrives in the company of plants, finds nurtur...         0.500000   \n",
            "23  Enjoys experimenting in the kitchen, trying ne...         0.500606   \n",
            "\n",
            "                                tokenized_and_stemmed       category  \n",
            "6   [fascin, by, the, past, ,, spend, countless, h...  below_average  \n",
            "1   [driven, by, a, yearn, to, explor, new, cultur...  below_average  \n",
            "16  [enjoy, the, challeng, and, competit, of, vide...  below_average  \n",
            "13  [express, creativ, through, music, ,, enjoy, p...  below_average  \n",
            "20  [gaze, at, the, night, sky, with, wonder, and,...  below_average  \n",
            "4   [devour, book, of, all, genr, ,, find, solac, ...  below_average  \n",
            "17  [enjoy, discuss, and, analyz, book, with, like...  below_average  \n",
            "18  [ha, a, passion, for, film, and, love, watch, ...  below_average  \n",
            "15  [express, themselv, through, variou, art, form...  below_average  \n",
            "9   [hold, a, deep, appreci, for, cinema, ,, analy...  below_average  \n",
            "14  [love, tri, new, cuisin, and, experi, with, di...  below_average  \n",
            "22  [passion, about, protect, the, environ, and, p...  below_average  \n",
            "7   [express, themself, through, the, power, of, m...  below_average  \n",
            "3   [transform, cook, into, an, art, form, ,, expe...  above_average  \n",
            "2   [embrac, the, latest, technolog, advanc, and, ...  above_average  \n",
            "11  [passion, about, all, thing, tech, ,, love, ke...  above_average  \n",
            "8   [maintain, an, activ, lifestyl, ,, incorpor, r...  above_average  \n",
            "19  [priorit, health, and, well, ,, enjoy, variou,...  above_average  \n",
            "10  [enjoy, get, lost, in, a, good, book, and, exp...  above_average  \n",
            "24  [share, their, passion, for, technolog, throug...  above_average  \n",
            "12  [find, peac, and, joy, in, spend, time, outdoo...  above_average  \n",
            "21  [captiv, by, the, power, of, languag, ,, weav,...  above_average  \n",
            "5   [champion, the, well-b, of, anim, ,, volunt, a...  above_average  \n",
            "0   [thrive, in, the, compani, of, plant, ,, find,...  above_average  \n",
            "23  [enjoy, experi, in, the, kitchen, ,, tri, new,...  above_average  \n"
          ]
        }
      ],
      "source": [
        "print(\"DataFrame Sorted by Sentiment Score:\")\n",
        "print(df_sorted)"
      ]
    },
    {
      "cell_type": "code",
      "execution_count": 25,
      "id": "8b91c78a",
      "metadata": {
        "colab": {
          "base_uri": "https://localhost:8080/"
        },
        "id": "8b91c78a",
        "outputId": "baf073ae-aeca-48b8-b295-0523ccb8add7"
      },
      "outputs": [
        {
          "output_type": "stream",
          "name": "stdout",
          "text": [
            "Top 20% Above Average:\n",
            "    user_id         username  \\\n",
            "12       13      NatureLover   \n",
            "21       22        Wordsmith   \n",
            "5         6  Animal Advocate   \n",
            "0         1  Plant Whisperer   \n",
            "23       24    Hobbyist Chef   \n",
            "\n",
            "                                                  bio  sentiment_score  \\\n",
            "12  Finds peace and joy in spending time outdoors,...         0.400000   \n",
            "21  Captivated by the power of language, weaving w...         0.500000   \n",
            "5   Champions the well-being of animals, volunteer...         0.500000   \n",
            "0   Thrives in the company of plants, finds nurtur...         0.500000   \n",
            "23  Enjoys experimenting in the kitchen, trying ne...         0.500606   \n",
            "\n",
            "                                tokenized_and_stemmed       category  \n",
            "12  [find, peac, and, joy, in, spend, time, outdoo...  above_average  \n",
            "21  [captiv, by, the, power, of, languag, ,, weav,...  above_average  \n",
            "5   [champion, the, well-b, of, anim, ,, volunt, a...  above_average  \n",
            "0   [thrive, in, the, compani, of, plant, ,, find,...  above_average  \n",
            "23  [enjoy, experi, in, the, kitchen, ,, tri, new,...  above_average  \n"
          ]
        }
      ],
      "source": [
        "print(\"Top 20% Above Average:\")\n",
        "print(top_20_percent)"
      ]
    },
    {
      "cell_type": "code",
      "execution_count": 26,
      "id": "771f9aa6",
      "metadata": {
        "colab": {
          "base_uri": "https://localhost:8080/"
        },
        "id": "771f9aa6",
        "outputId": "c468639c-b22e-4dfa-e6f1-388e3f0fcba9"
      },
      "outputs": [
        {
          "output_type": "stream",
          "name": "stdout",
          "text": [
            "Bottom 20% Below Average:\n",
            "    user_id      username                                                bio  \\\n",
            "6         7  History Buff  Fascinated by the past, spending countless hou...   \n",
            "1         2    Wanderlust  Driven by a yearning to explore new cultures a...   \n",
            "16       17         Gamer  Enjoys the challenge and competition of video ...   \n",
            "13       14      Musician  Expresses creativity through music, enjoys pla...   \n",
            "20       21     Stargazer  Gazes at the night sky with wonder and fascina...   \n",
            "\n",
            "    sentiment_score                              tokenized_and_stemmed  \\\n",
            "6         -0.050000  [fascin, by, the, past, ,, spend, countless, h...   \n",
            "1         -0.015152  [driven, by, a, yearn, to, explor, new, cultur...   \n",
            "16         0.000000  [enjoy, the, challeng, and, competit, of, vide...   \n",
            "13         0.000000  [express, creativ, through, music, ,, enjoy, p...   \n",
            "20         0.000000  [gaze, at, the, night, sky, with, wonder, and,...   \n",
            "\n",
            "         category  \n",
            "6   below_average  \n",
            "1   below_average  \n",
            "16  below_average  \n",
            "13  below_average  \n",
            "20  below_average  \n"
          ]
        }
      ],
      "source": [
        "print(\"Bottom 20% Below Average:\")\n",
        "print(bottom_20_percent)"
      ]
    },
    {
      "cell_type": "code",
      "source": [
        "from sklearn.feature_extraction.text import TfidfVectorizer\n",
        "from sklearn.metrics.pairwise import linear_kernel\n"
      ],
      "metadata": {
        "id": "8hVbchxuWCI1"
      },
      "id": "8hVbchxuWCI1",
      "execution_count": 27,
      "outputs": []
    },
    {
      "cell_type": "code",
      "execution_count": 28,
      "id": "7f945fff",
      "metadata": {
        "id": "7f945fff"
      },
      "outputs": [],
      "source": [
        "# User input (replace this with the user's actual input)\n",
        "user_input = \"Driven by a yearning to explore new cultures and landscapes.\"\n"
      ]
    },
    {
      "cell_type": "code",
      "source": [
        "# Function for POS tagging\n",
        "def pos_tagging(text):\n",
        "    # Process the text with spaCy\n",
        "    doc = nlp(text)\n",
        "\n",
        "    # Extract POS tags\n",
        "    pos_tags = [(token.text, token.pos_) for token in doc]\n",
        "\n",
        "    return pos_tags\n",
        "\n",
        "# Apply POS tagging to the 'text' column\n",
        "df['pos_tags'] = df['bio'].apply(pos_tagging)\n",
        "\n",
        "# User input (replace this with the user's actual input)\n",
        "user_input = \"competition\"\n",
        "\n",
        "# Preprocess data for vectorization\n",
        "corpus = df['bio'].astype(str)\n",
        "vectorizer = TfidfVectorizer()\n",
        "tfidf_matrix = vectorizer.fit_transform(corpus)\n",
        "\n",
        "# Tokenization, stemming, and POS tagging for user input\n",
        "user_pos_tags = pos_tagging(user_input)\n",
        "user_vector = vectorizer.transform([' '.join([word for word, pos in user_pos_tags])])\n",
        "\n",
        "# Calculate cosine similarities\n",
        "cosine_similarities = linear_kernel(user_vector, tfidf_matrix).flatten()\n",
        "\n",
        "# Get recommendations based on similarity\n",
        "recommended_indices = cosine_similarities.argsort()[:-4:-1]  # Get top 3 recommendations\n",
        "recommendations = df.iloc[recommended_indices]\n",
        "\n",
        "print(\"User Input:\", user_input)\n",
        "print(\"\\nRecommended Topics:\")\n",
        "print(recommendations[['username', 'bio']])\n"
      ],
      "metadata": {
        "colab": {
          "base_uri": "https://localhost:8080/"
        },
        "id": "XSIRcP7yXSLQ",
        "outputId": "d5700741-88de-4ef5-c189-bfc580d3952a"
      },
      "id": "XSIRcP7yXSLQ",
      "execution_count": 29,
      "outputs": [
        {
          "output_type": "stream",
          "name": "stdout",
          "text": [
            "User Input: competition\n",
            "\n",
            "Recommended Topics:\n",
            "        username                                                bio\n",
            "16         Gamer  Enjoys the challenge and competition of video ...\n",
            "24  Tech Creator  Shares their passion for technology through on...\n",
            "11       TechWiz  Passionate about all things tech, loves keepin...\n"
          ]
        }
      ]
    },
    {
      "cell_type": "code",
      "source": [
        "# Function for counting occurrences of a specific word\n",
        "def count_word_occurrences(pos_tags, target_word):\n",
        "    # Count occurrences of the target word\n",
        "    count = sum(1 for word, _ in pos_tags if word.lower() == target_word.lower())\n",
        "    return count\n",
        "\n",
        "# Assuming you have a DataFrame 'df' with a column 'pos_tags'\n",
        "# Specify the target word\n",
        "target_word = \"in\"\n",
        "\n",
        "# Apply the count_word_occurrences function to the 'pos_tags' column\n",
        "df['word_occurrences'] = df['pos_tags'].apply(lambda tags: count_word_occurrences(tags, target_word))\n",
        "\n",
        "# Display the DataFrame with word occurrences\n",
        "print(df[['bio', 'pos_tags', 'word_occurrences']])\n"
      ],
      "metadata": {
        "colab": {
          "base_uri": "https://localhost:8080/"
        },
        "id": "Pvy69YGZXTAc",
        "outputId": "56a499a9-7af2-4d22-fd64-320c16cbe780"
      },
      "id": "Pvy69YGZXTAc",
      "execution_count": 34,
      "outputs": [
        {
          "output_type": "stream",
          "name": "stdout",
          "text": [
            "                                                  bio  \\\n",
            "0   Thrives in the company of plants, finds nurtur...   \n",
            "1   Driven by a yearning to explore new cultures a...   \n",
            "2   Embraces the latest technological advancements...   \n",
            "3   Transforms cooking into an art form, experimen...   \n",
            "4   Devours books of all genres, finding solace an...   \n",
            "5   Champions the well-being of animals, volunteer...   \n",
            "6   Fascinated by the past, spending countless hou...   \n",
            "7   Expresses themself through the power of music,...   \n",
            "8   Maintains an active lifestyle, incorporating r...   \n",
            "9   Holds a deep appreciation for cinema, analyzin...   \n",
            "10  Enjoys getting lost in a good book and explori...   \n",
            "11  Passionate about all things tech, loves keepin...   \n",
            "12  Finds peace and joy in spending time outdoors,...   \n",
            "13  Expresses creativity through music, enjoys pla...   \n",
            "14  Loves trying new cuisines and experimenting wi...   \n",
            "15  Expresses themselves through various art forms...   \n",
            "16  Enjoys the challenge and competition of video ...   \n",
            "17  Enjoys discussing and analyzing books with lik...   \n",
            "18  Has a passion for film and loves watching movi...   \n",
            "19  Prioritizes health and wellness, enjoys variou...   \n",
            "20  Gazes at the night sky with wonder and fascina...   \n",
            "21  Captivated by the power of language, weaving w...   \n",
            "22  Passionate about protecting the environment an...   \n",
            "23  Enjoys experimenting in the kitchen, trying ne...   \n",
            "24  Shares their passion for technology through on...   \n",
            "\n",
            "                                             pos_tags  word_occurrences  \n",
            "0   [(Thrives, NOUN), (in, ADP), (the, DET), (comp...                 1  \n",
            "1   [(Driven, VERB), (by, ADP), (a, DET), (yearnin...                 0  \n",
            "2   [(Embraces, VERB), (the, DET), (latest, ADJ), ...                 0  \n",
            "3   [(Transforms, NOUN), (cooking, VERB), (into, A...                 0  \n",
            "4   [(Devours, NOUN), (books, NOUN), (of, ADP), (a...                 0  \n",
            "5   [(Champions, NOUN), (the, DET), (well, ADV), (...                 0  \n",
            "6   [(Fascinated, VERB), (by, ADP), (the, DET), (p...                 1  \n",
            "7   [(Expresses, NOUN), (themself, PRON), (through...                 0  \n",
            "8   [(Maintains, VERB), (an, DET), (active, ADJ), ...                 0  \n",
            "9   [(Holds, VERB), (a, DET), (deep, ADJ), (apprec...                 0  \n",
            "10  [(Enjoys, VERB), (getting, AUX), (lost, VERB),...                 1  \n",
            "11  [(Passionate, VERB), (about, ADP), (all, DET),...                 0  \n",
            "12  [(Finds, VERB), (peace, NOUN), (and, CCONJ), (...                 1  \n",
            "13  [(Expresses, NOUN), (creativity, NOUN), (throu...                 0  \n",
            "14  [(Loves, AUX), (trying, VERB), (new, ADJ), (cu...                 0  \n",
            "15  [(Expresses, VERB), (themselves, PRON), (throu...                 0  \n",
            "16  [(Enjoys, VERB), (the, DET), (challenge, NOUN)...                 0  \n",
            "17  [(Enjoys, VERB), (discussing, VERB), (and, CCO...                 0  \n",
            "18  [(Has, VERB), (a, DET), (passion, NOUN), (for,...                 0  \n",
            "19  [(Prioritizes, NOUN), (health, NOUN), (and, CC...                 0  \n",
            "20  [(Gazes, NOUN), (at, ADP), (the, DET), (night,...                 1  \n",
            "21  [(Captivated, VERB), (by, ADP), (the, DET), (p...                 0  \n",
            "22  [(Passionate, ADJ), (about, ADP), (protecting,...                 1  \n",
            "23  [(Enjoys, NOUN), (experimenting, VERB), (in, A...                 1  \n",
            "24  [(Shares, NOUN), (their, PRON), (passion, NOUN...                 0  \n"
          ]
        }
      ]
    },
    {
      "cell_type": "code",
      "source": [],
      "metadata": {
        "id": "8-MHG2cwyQB3"
      },
      "id": "8-MHG2cwyQB3",
      "execution_count": 30,
      "outputs": []
    }
  ],
  "metadata": {
    "kernelspec": {
      "display_name": "Python 3 (ipykernel)",
      "language": "python",
      "name": "python3"
    },
    "language_info": {
      "codemirror_mode": {
        "name": "ipython",
        "version": 3
      },
      "file_extension": ".py",
      "mimetype": "text/x-python",
      "name": "python",
      "nbconvert_exporter": "python",
      "pygments_lexer": "ipython3",
      "version": "3.9.13"
    },
    "colab": {
      "provenance": [],
      "include_colab_link": true
    }
  },
  "nbformat": 4,
  "nbformat_minor": 5
}